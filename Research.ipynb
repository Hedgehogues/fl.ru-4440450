{
 "cells": [
  {
   "cell_type": "code",
   "execution_count": 300,
   "metadata": {},
   "outputs": [],
   "source": [
    "import pandas as pd\n",
    "import requests\n",
    "import datetime\n",
    "import json\n",
    "import tqdm\n",
    "import io"
   ]
  },
  {
   "cell_type": "code",
   "execution_count": 296,
   "metadata": {},
   "outputs": [],
   "source": [
    "domains_filename = 'domains.csv'\n",
    "token = '1267284902:AAE7rfaQfyZnSs59V1xJVlvkw66r-smwQ6Q'\n",
    "username = 'bot_4440450_bot'\n",
    "chat_id = '126555500'\n",
    "url_tlg = f\"https://api.telegram.org/bot{token}/sendMessage\"\n",
    "existed_domains = 'existed.csv'"
   ]
  },
  {
   "cell_type": "code",
   "execution_count": 297,
   "metadata": {},
   "outputs": [],
   "source": [
    "def get_rkn(url):\n",
    "    print('get data from github')\n",
    "    t = datetime.datetime.now()\n",
    "    resp = requests.get(url)\n",
    "    assert resp.status_code == 200, f'invalid status code: {resp.status_code}'\n",
    "    bytes_ = resp.content\n",
    "    bytes_io = io.BytesIO()\n",
    "    bytes_io.write(bytes_)\n",
    "    bytes_io.seek(0)\n",
    "    print(f'execution (seconds): {(datetime.datetime.now() - t).total_seconds()}')\n",
    "    return bytes_io\n",
    "\n",
    "def read_csv(stream):\n",
    "    print('read data')\n",
    "    t = datetime.datetime.now()\n",
    "    df = pd.read_csv(stream, sep=';', encoding='WINDOWS-1251', index_col=None)\n",
    "    print(f'execution (seconds): {(datetime.datetime.now() - t).total_seconds()}')\n",
    "    return df\n",
    "\n",
    "def read_domains(fname):\n",
    "    print('read domains')\n",
    "    t = datetime.datetime.now()\n",
    "    with open(fname, 'r') as fd:\n",
    "        domains = set(fd.read().split('\\n'))\n",
    "    print(f'execution (seconds): {(datetime.datetime.now() - t).total_seconds()}')\n",
    "    return domains\n",
    "\n",
    "def transform_raw(df):\n",
    "    print('prepare data from raw to DataFrame')\n",
    "    t = datetime.datetime.now()\n",
    "    values = list(df.index)\n",
    "    df_ = pd.DataFrame(values)\n",
    "    df_[5] = df.values\n",
    "    df = df_.copy(deep=True)\n",
    "    del df_\n",
    "    print(f'execution (seconds): {(datetime.datetime.now() - t).total_seconds()}')\n",
    "    return df\n",
    "\n",
    "def find_domains_exist(df, domains):\n",
    "    print('find domains')\n",
    "    t = datetime.datetime.now()\n",
    "    df_ = df[df.apply(lambda el: el[1] in domains, axis=1)]\n",
    "    print(f'execution (seconds): {(datetime.datetime.now() - t).total_seconds()}')\n",
    "    return df_\n",
    "\n",
    "def find_domains_not_exist(df, domains):\n",
    "    print('find domains')\n",
    "    t = datetime.datetime.now()\n",
    "    df_ = df[df.apply(lambda el: el[1] not in domains, axis=1)]\n",
    "    print(f'execution (seconds): {(datetime.datetime.now() - t).total_seconds()}')\n",
    "    return df_\n",
    "\n",
    "def unique_domains(df):\n",
    "    print('filter domains')\n",
    "    t = datetime.datetime.now()\n",
    "    df_ = df.groupby(1).first().reset_index()\n",
    "    print(f'execution (seconds): {(datetime.datetime.now() - t).total_seconds()}')\n",
    "    return df_\n",
    "\n",
    "def send_to_tlg(url, chat_id, values):\n",
    "    for item in tqdm.tqdm(values, desc='pass messages'):\n",
    "        data = {\n",
    "            'text': json.dumps(';'.join(item), ensure_ascii=False),\n",
    "            'chat_id': chat_id,\n",
    "        }\n",
    "        resp = requests.get(url, data=data)\n",
    "        assert resp.status_code == 200, f'invalid status code: {resp.status_code}'\n",
    "        \n",
    "def dump_domains(fname, df, existed):\n",
    "    print('dump domains')\n",
    "    t = datetime.datetime.now()\n",
    "    df_existed = df.copy(deep=True)\n",
    "    df_existed = df_existed = df_existed[~df_existed[1].isnull()]\n",
    "    domains = '\\n'.join(list(set(df_existed[1].values.tolist()).union(existed)))\n",
    "    with open(fname, 'w') as fd:\n",
    "        fd.write(domains)\n",
    "    print(f'execution (seconds): {(datetime.datetime.now() - t).total_seconds()}')\n",
    "    return df"
   ]
  },
  {
   "cell_type": "code",
   "execution_count": 299,
   "metadata": {},
   "outputs": [
    {
     "name": "stdout",
     "output_type": "stream",
     "text": [
      "get data from github\n",
      "execution (seconds): 1.351299\n",
      "read data\n",
      "execution (seconds): 2.346428\n",
      "read domains\n",
      "execution (seconds): 0.000266\n",
      "read domains\n",
      "execution (seconds): 0.043771\n",
      "prepare data from raw to DataFrame\n",
      "execution (seconds): 0.684551\n",
      "dump domains\n",
      "execution (seconds): 0.167864\n",
      "filter domains\n",
      "execution (seconds): 0.400222\n",
      "find domains\n"
     ]
    },
    {
     "name": "stderr",
     "output_type": "stream",
     "text": [
      "\r",
      "pass messages:   0%|          | 0/1 [00:00<?, ?it/s]"
     ]
    },
    {
     "name": "stdout",
     "output_type": "stream",
     "text": [
      "execution (seconds): 2.323925\n",
      "find domains\n",
      "execution (seconds): 0.001442\n"
     ]
    },
    {
     "name": "stderr",
     "output_type": "stream",
     "text": [
      "pass messages: 100%|██████████| 1/1 [00:00<00:00,  4.40it/s]\n"
     ]
    }
   ],
   "source": [
    "stream = get_rkn('https://raw.githubusercontent.com/zapret-info/z-i/master/dump.csv')\n",
    "df = read_csv(stream)\n",
    "domains = read_domains(domains_filename)\n",
    "existed = read_domains(existed_domains)\n",
    "df = transform_raw(df)\n",
    "dump_domains(existed_domains, df, existed)\n",
    "df = unique_domains(df)\n",
    "df = find_domains_not_exist(df, existed)\n",
    "df = find_domains_exist(df, domains)\n",
    "values = df[[1,3,5]].values.tolist()\n",
    "send_to_tlg(url_tlg, chat_id, values)"
   ]
  },
  {
   "cell_type": "code",
   "execution_count": null,
   "metadata": {},
   "outputs": [],
   "source": []
  }
 ],
 "metadata": {
  "kernelspec": {
   "display_name": "Python 3",
   "language": "python",
   "name": "python3"
  },
  "language_info": {
   "codemirror_mode": {
    "name": "ipython",
    "version": 3
   },
   "file_extension": ".py",
   "mimetype": "text/x-python",
   "name": "python",
   "nbconvert_exporter": "python",
   "pygments_lexer": "ipython3",
   "version": "3.7.3"
  }
 },
 "nbformat": 4,
 "nbformat_minor": 2
}
