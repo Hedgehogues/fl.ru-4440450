{
 "cells": [
  {
   "cell_type": "code",
   "execution_count": 1,
   "metadata": {},
   "outputs": [],
   "source": [
    "import pandas as pd\n",
    "import requests\n",
    "import datetime\n",
    "import json\n",
    "import tqdm\n",
    "import io"
   ]
  },
  {
   "cell_type": "code",
   "execution_count": 28,
   "metadata": {},
   "outputs": [],
   "source": [
    "with open('dump.csv', 'rb') as fd:\n",
    "    line = fd.read()\n",
    "line = line.decode('WINDOWS-1251')\n",
    "with open('dump.csv', 'w') as fd:\n",
    "    fd.write(line)"
   ]
  },
  {
   "cell_type": "code",
   "execution_count": 2,
   "metadata": {},
   "outputs": [],
   "source": [
    "domains_filename = 'domains.csv'\n",
    "token = '1267284902:AAE7rfaQfyZnSs59V1xJVlvkw66r-smwQ6Q'\n",
    "username = 'bot_4440450_bot'\n",
    "chat_id = '126555500'\n",
    "url_tlg = f\"https://api.telegram.org/bot{token}/sendMessage\"\n",
    "existed_domains = 'existed.csv'"
   ]
  },
  {
   "cell_type": "code",
   "execution_count": 47,
   "metadata": {},
   "outputs": [],
   "source": [
    "def get_rkn(url):\n",
    "    print('get data from github')\n",
    "    t = datetime.datetime.now()\n",
    "    resp = requests.get(url)\n",
    "    assert resp.status_code == 200, f'invalid status code: {resp.status_code}'\n",
    "    bytes_ = resp.content\n",
    "    bytes_io = io.BytesIO()\n",
    "    bytes_io.write(bytes_)\n",
    "    bytes_io.seek(0)\n",
    "    print(f'execution (seconds): {(datetime.datetime.now() - t).total_seconds()}')\n",
    "    return bytes_io\n",
    "\n",
    "def read_csv(stream):\n",
    "    print('read data')\n",
    "    t = datetime.datetime.now()\n",
    "    df = pd.read_csv(stream, sep=';', encoding='WINDOWS-1251', index_col=None)\n",
    "    print(f'execution (seconds): {(datetime.datetime.now() - t).total_seconds()}')\n",
    "    return df\n",
    "\n",
    "def read_domains(fname):\n",
    "    print('read domains')\n",
    "    t = datetime.datetime.now()\n",
    "    with open(fname, 'r') as fd:\n",
    "        domains = set(fd.read().split('\\n'))\n",
    "    print(f'execution (seconds): {(datetime.datetime.now() - t).total_seconds()}')\n",
    "    return domains\n",
    "\n",
    "def transform_raw(df):\n",
    "    print('prepare data from raw to DataFrame')\n",
    "    t = datetime.datetime.now()\n",
    "    values = list(df.index)\n",
    "    df_ = pd.DataFrame(values)\n",
    "    df_[5] = df.values\n",
    "    df = df_.copy(deep=True)\n",
    "    del df_\n",
    "    print(f'execution (seconds): {(datetime.datetime.now() - t).total_seconds()}')\n",
    "    return df\n",
    "\n",
    "def find_domains_exist(df, domains):\n",
    "    print('find domains')\n",
    "    t = datetime.datetime.now()\n",
    "    df_ = df[df.apply(lambda el: el[1] in domains, axis=1)]\n",
    "    print(f'execution (seconds): {(datetime.datetime.now() - t).total_seconds()}')\n",
    "    return df_\n",
    "\n",
    "def find_domains_not_exist(df, domains):\n",
    "    print('find domains')\n",
    "    t = datetime.datetime.now()\n",
    "    df_ = df[df.apply(lambda el: el[1] not in domains, axis=1)]\n",
    "    print(f'execution (seconds): {(datetime.datetime.now() - t).total_seconds()}')\n",
    "    return df_\n",
    "\n",
    "def unique_domains(df):\n",
    "    print('filter domains')\n",
    "    t = datetime.datetime.now()\n",
    "    df_ = df.groupby(1).first().reset_index()\n",
    "    print(f'execution (seconds): {(datetime.datetime.now() - t).total_seconds()}')\n",
    "    return df_\n",
    "\n",
    "def send_to_tlg(url, chat_id, values):\n",
    "    for item in tqdm.tqdm(values, desc='pass messages'):\n",
    "        time = datetime.datetime.strftime(datetime.datetime.now(), \"%d.%m.%Y %H:%M:%S\")\n",
    "        site = item[0]\n",
    "        task = item[1]\n",
    "        date = '.'.join(item[2].split('-')[::-1])\n",
    "        data = {\n",
    "            'text': f'{time} Сайт {site} - РКН. Дело: {task}. Дата решения: {date}',\n",
    "            'chat_id': chat_id,\n",
    "        }\n",
    "        resp = requests.get(url, data=data)\n",
    "        assert resp.status_code == 200, f'invalid status code: {resp.status_code}'\n",
    "        \n",
    "def dump_domains(fname, df, existed):\n",
    "    print('dump domains')\n",
    "    t = datetime.datetime.now()\n",
    "    df_existed = df.copy(deep=True)\n",
    "    df_existed = df_existed[~df_existed[1].isnull()]\n",
    "    domains = '\\n'.join(list(set(df_existed['domains'].values.tolist()).union(existed)))\n",
    "    with open(fname, 'w') as fd:\n",
    "        fd.write(domains)\n",
    "    print(f'execution (seconds): {(datetime.datetime.now() - t).total_seconds()}')\n",
    "    return df\n",
    "\n",
    "def remove_domains_low_level(df):\n",
    "    print('dump domains')\n",
    "    t = datetime.datetime.now()\n",
    "    df['domains'] = df[1]\n",
    "    df[1] = df[1].apply(lambda el: el if type(el) == float else '.'.join(el.split('.')[-2:])) \n",
    "    print(f'execution (seconds): {(datetime.datetime.now() - t).total_seconds()}')\n",
    "    return df"
   ]
  },
  {
   "cell_type": "code",
   "execution_count": 53,
   "metadata": {},
   "outputs": [
    {
     "name": "stdout",
     "output_type": "stream",
     "text": [
      "get data from github\n",
      "execution (seconds): 1.137843\n",
      "read data\n",
      "execution (seconds): 2.491188\n",
      "read domains\n",
      "execution (seconds): 0.000105\n",
      "read domains\n",
      "execution (seconds): 7.3e-05\n",
      "prepare data from raw to DataFrame\n",
      "execution (seconds): 0.517049\n",
      "filter domains\n",
      "execution (seconds): 0.468353\n",
      "find domains\n",
      "execution (seconds): 3.929994\n",
      "dump domains\n",
      "execution (seconds): 0.255398\n",
      "find domains\n"
     ]
    },
    {
     "name": "stderr",
     "output_type": "stream",
     "text": [
      "\r",
      "pass messages:   0%|          | 0/3 [00:00<?, ?it/s]"
     ]
    },
    {
     "name": "stdout",
     "output_type": "stream",
     "text": [
      "execution (seconds): 5.067258\n",
      "dump domains\n",
      "execution (seconds): 0.004178\n"
     ]
    },
    {
     "name": "stderr",
     "output_type": "stream",
     "text": [
      "pass messages: 100%|██████████| 3/3 [00:00<00:00,  3.95it/s]\n"
     ]
    }
   ],
   "source": [
    "stream = get_rkn('https://raw.githubusercontent.com/zapret-info/z-i/master/dump.csv')\n",
    "df = read_csv(stream)\n",
    "domains = read_domains(domains_filename)\n",
    "existed = read_domains(existed_domains)\n",
    "df = transform_raw(df)\n",
    "df = unique_domains(df)\n",
    "df = find_domains_not_exist(df, existed)\n",
    "df = remove_domains_low_level(df)\n",
    "df = find_domains_exist(df, domains)\n",
    "dump_domains(existed_domains, df, existed)\n",
    "values = df[['domains',4,5]].values.tolist()\n",
    "send_to_tlg(url_tlg, chat_id, values)"
   ]
  },
  {
   "cell_type": "code",
   "execution_count": null,
   "metadata": {},
   "outputs": [],
   "source": []
  }
 ],
 "metadata": {
  "kernelspec": {
   "display_name": "Python 3",
   "language": "python",
   "name": "python3"
  },
  "language_info": {
   "codemirror_mode": {
    "name": "ipython",
    "version": 3
   },
   "file_extension": ".py",
   "mimetype": "text/x-python",
   "name": "python",
   "nbconvert_exporter": "python",
   "pygments_lexer": "ipython3",
   "version": "3.7.3"
  }
 },
 "nbformat": 4,
 "nbformat_minor": 2
}
